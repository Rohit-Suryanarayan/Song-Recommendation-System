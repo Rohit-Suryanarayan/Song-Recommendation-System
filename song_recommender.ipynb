{
  "nbformat": 4,
  "nbformat_minor": 0,
  "metadata": {
    "colab": {
      "name": "song recommender.ipynb",
      "provenance": [],
      "collapsed_sections": []
    },
    "kernelspec": {
      "name": "python3",
      "display_name": "Python 3"
    },
    "language_info": {
      "name": "python"
    }
  },
  "cells": [
    {
      "cell_type": "code",
      "metadata": {
        "id": "yHdvmQGE790B"
      },
      "source": [
        "import pandas as pd\n",
        "import seaborn as sns\n",
        "import matplotlib.pyplot as plt\n",
        "import numpy as np"
      ],
      "execution_count": 8,
      "outputs": []
    },
    {
      "cell_type": "code",
      "metadata": {
        "colab": {
          "base_uri": "https://localhost:8080/",
          "height": 424
        },
        "id": "-geoMv-J8whm",
        "outputId": "986dd81d-9d79-4cf5-f18a-6a6aedbb69b8"
      },
      "source": [
        "df = pd.read_csv('song1.csv')\n",
        "df.columns = [\"user_id\", \"song_id\", \"count\"]\n",
        "df.head(100)"
      ],
      "execution_count": 23,
      "outputs": [
        {
          "output_type": "execute_result",
          "data": {
            "text/html": [
              "<div>\n",
              "<style scoped>\n",
              "    .dataframe tbody tr th:only-of-type {\n",
              "        vertical-align: middle;\n",
              "    }\n",
              "\n",
              "    .dataframe tbody tr th {\n",
              "        vertical-align: top;\n",
              "    }\n",
              "\n",
              "    .dataframe thead th {\n",
              "        text-align: right;\n",
              "    }\n",
              "</style>\n",
              "<table border=\"1\" class=\"dataframe\">\n",
              "  <thead>\n",
              "    <tr style=\"text-align: right;\">\n",
              "      <th></th>\n",
              "      <th>user_id</th>\n",
              "      <th>song_id</th>\n",
              "      <th>count</th>\n",
              "    </tr>\n",
              "  </thead>\n",
              "  <tbody>\n",
              "    <tr>\n",
              "      <th>0</th>\n",
              "      <td>b80344d063b5ccb3212f76538f3d9e43d87dca9e</td>\n",
              "      <td>SOAPDEY12A81C210A9</td>\n",
              "      <td>1</td>\n",
              "    </tr>\n",
              "    <tr>\n",
              "      <th>1</th>\n",
              "      <td>b80344d063b5ccb3212f76538f3d9e43d87dca9e</td>\n",
              "      <td>SOBBMDR12A8C13253B</td>\n",
              "      <td>2</td>\n",
              "    </tr>\n",
              "    <tr>\n",
              "      <th>2</th>\n",
              "      <td>b80344d063b5ccb3212f76538f3d9e43d87dca9e</td>\n",
              "      <td>SOBFNSP12AF72A0E22</td>\n",
              "      <td>1</td>\n",
              "    </tr>\n",
              "    <tr>\n",
              "      <th>3</th>\n",
              "      <td>b80344d063b5ccb3212f76538f3d9e43d87dca9e</td>\n",
              "      <td>SOBFOVM12A58A7D494</td>\n",
              "      <td>1</td>\n",
              "    </tr>\n",
              "    <tr>\n",
              "      <th>4</th>\n",
              "      <td>b80344d063b5ccb3212f76538f3d9e43d87dca9e</td>\n",
              "      <td>SOBNZDC12A6D4FC103</td>\n",
              "      <td>1</td>\n",
              "    </tr>\n",
              "    <tr>\n",
              "      <th>...</th>\n",
              "      <td>...</td>\n",
              "      <td>...</td>\n",
              "      <td>...</td>\n",
              "    </tr>\n",
              "    <tr>\n",
              "      <th>95</th>\n",
              "      <td>b80344d063b5ccb3212f76538f3d9e43d87dca9e</td>\n",
              "      <td>SOXRXDG12A8C131DE5</td>\n",
              "      <td>1</td>\n",
              "    </tr>\n",
              "    <tr>\n",
              "      <th>96</th>\n",
              "      <td>b80344d063b5ccb3212f76538f3d9e43d87dca9e</td>\n",
              "      <td>SOXSPON12A6D4F5DC2</td>\n",
              "      <td>1</td>\n",
              "    </tr>\n",
              "    <tr>\n",
              "      <th>97</th>\n",
              "      <td>b80344d063b5ccb3212f76538f3d9e43d87dca9e</td>\n",
              "      <td>SOXZQDE12A8C135833</td>\n",
              "      <td>1</td>\n",
              "    </tr>\n",
              "    <tr>\n",
              "      <th>98</th>\n",
              "      <td>b80344d063b5ccb3212f76538f3d9e43d87dca9e</td>\n",
              "      <td>SOYHEPA12A8C13097F</td>\n",
              "      <td>8</td>\n",
              "    </tr>\n",
              "    <tr>\n",
              "      <th>99</th>\n",
              "      <td>b80344d063b5ccb3212f76538f3d9e43d87dca9e</td>\n",
              "      <td>SOYYWMD12A58A7BCC9</td>\n",
              "      <td>1</td>\n",
              "    </tr>\n",
              "  </tbody>\n",
              "</table>\n",
              "<p>100 rows × 3 columns</p>\n",
              "</div>"
            ],
            "text/plain": [
              "                                     user_id             song_id  count\n",
              "0   b80344d063b5ccb3212f76538f3d9e43d87dca9e  SOAPDEY12A81C210A9      1\n",
              "1   b80344d063b5ccb3212f76538f3d9e43d87dca9e  SOBBMDR12A8C13253B      2\n",
              "2   b80344d063b5ccb3212f76538f3d9e43d87dca9e  SOBFNSP12AF72A0E22      1\n",
              "3   b80344d063b5ccb3212f76538f3d9e43d87dca9e  SOBFOVM12A58A7D494      1\n",
              "4   b80344d063b5ccb3212f76538f3d9e43d87dca9e  SOBNZDC12A6D4FC103      1\n",
              "..                                       ...                 ...    ...\n",
              "95  b80344d063b5ccb3212f76538f3d9e43d87dca9e  SOXRXDG12A8C131DE5      1\n",
              "96  b80344d063b5ccb3212f76538f3d9e43d87dca9e  SOXSPON12A6D4F5DC2      1\n",
              "97  b80344d063b5ccb3212f76538f3d9e43d87dca9e  SOXZQDE12A8C135833      1\n",
              "98  b80344d063b5ccb3212f76538f3d9e43d87dca9e  SOYHEPA12A8C13097F      8\n",
              "99  b80344d063b5ccb3212f76538f3d9e43d87dca9e  SOYYWMD12A58A7BCC9      1\n",
              "\n",
              "[100 rows x 3 columns]"
            ]
          },
          "metadata": {
            "tags": []
          },
          "execution_count": 23
        }
      ]
    },
    {
      "cell_type": "code",
      "metadata": {
        "colab": {
          "base_uri": "https://localhost:8080/"
        },
        "id": "YWP48VaU9y_O",
        "outputId": "ece3572d-a1ef-4b08-80c2-98058cd726b2"
      },
      "source": [
        "print(df.shape)"
      ],
      "execution_count": 9,
      "outputs": [
        {
          "output_type": "stream",
          "text": [
            "(39999, 3)\n"
          ],
          "name": "stdout"
        }
      ]
    },
    {
      "cell_type": "code",
      "metadata": {
        "colab": {
          "base_uri": "https://localhost:8080/"
        },
        "id": "ahGx3s3R97a-",
        "outputId": "0312219e-e8da-4645-8778-ccbcdd12d125"
      },
      "source": [
        "print(df[\"song_id\"].value_counts())"
      ],
      "execution_count": 26,
      "outputs": [
        {
          "output_type": "stream",
          "text": [
            "SOFRQTD12A81C233C0    86\n",
            "SOAXGDH12A8C13F8A1    78\n",
            "SOAUWYT12A81C206F1    70\n",
            "SOSXLTC12AF72A7F54    70\n",
            "SONYKOW12AB01849C9    69\n",
            "                      ..\n",
            "SONYMMQ12A6D4F8860     1\n",
            "SOOCVKL12A6D4F85F3     1\n",
            "SOTPGYZ12A6D4F4A39     1\n",
            "SOEJZLV12A8AE4700B     1\n",
            "SOVCLUN12A6D4FC1CF     1\n",
            "Name: song_id, Length: 23667, dtype: int64\n"
          ],
          "name": "stdout"
        }
      ]
    },
    {
      "cell_type": "code",
      "metadata": {
        "id": "RV0UJkAyXQV0"
      },
      "source": [
        "song_id_flat = df[\"song_id\"].to_numpy()"
      ],
      "execution_count": 48,
      "outputs": []
    },
    {
      "cell_type": "code",
      "metadata": {
        "colab": {
          "base_uri": "https://localhost:8080/"
        },
        "id": "2oPxtt0YX-BV",
        "outputId": "cf626f33-5569-495b-f788-52d0445a08ee"
      },
      "source": [
        "print(len(song_id_flat))"
      ],
      "execution_count": 49,
      "outputs": [
        {
          "output_type": "stream",
          "text": [
            "39999\n"
          ],
          "name": "stdout"
        }
      ]
    },
    {
      "cell_type": "code",
      "metadata": {
        "colab": {
          "base_uri": "https://localhost:8080/"
        },
        "id": "ws6Ol6NEYcHm",
        "outputId": "b68206e6-9a35-49b6-dcc6-15821b7f5606"
      },
      "source": [
        "song_id_flat = np.unique(song_id_flat)\n",
        "song_id_flat = song_id_flat[0:10001]\n",
        "print(len(song_id_flat))"
      ],
      "execution_count": 50,
      "outputs": [
        {
          "output_type": "stream",
          "text": [
            "10001\n"
          ],
          "name": "stdout"
        }
      ]
    },
    {
      "cell_type": "code",
      "metadata": {
        "id": "zb45je_bY-me"
      },
      "source": [
        "ndf = pd.read_csv('SongCSV.csv')"
      ],
      "execution_count": 35,
      "outputs": []
    },
    {
      "cell_type": "code",
      "metadata": {
        "id": "0MAqtebdZ2dp"
      },
      "source": [
        "song_dtst = ndf.loc[:,[\"SongID\", \"AlbumID\", \"AlbumName\", \"Title\", \"Year\"]]"
      ],
      "execution_count": 36,
      "outputs": []
    },
    {
      "cell_type": "code",
      "metadata": {
        "id": "EXLknFE0Z-lr"
      },
      "source": [
        "song_dtst['song_id'] = song_id_flat"
      ],
      "execution_count": 51,
      "outputs": []
    },
    {
      "cell_type": "code",
      "metadata": {
        "colab": {
          "base_uri": "https://localhost:8080/",
          "height": 206
        },
        "id": "aDn0GSnRb-NN",
        "outputId": "f08e8b5b-9220-48c7-8f18-d2c9a38b2c22"
      },
      "source": [
        "song_dtst.head()"
      ],
      "execution_count": 52,
      "outputs": [
        {
          "output_type": "execute_result",
          "data": {
            "text/html": [
              "<div>\n",
              "<style scoped>\n",
              "    .dataframe tbody tr th:only-of-type {\n",
              "        vertical-align: middle;\n",
              "    }\n",
              "\n",
              "    .dataframe tbody tr th {\n",
              "        vertical-align: top;\n",
              "    }\n",
              "\n",
              "    .dataframe thead th {\n",
              "        text-align: right;\n",
              "    }\n",
              "</style>\n",
              "<table border=\"1\" class=\"dataframe\">\n",
              "  <thead>\n",
              "    <tr style=\"text-align: right;\">\n",
              "      <th></th>\n",
              "      <th>SongID</th>\n",
              "      <th>AlbumID</th>\n",
              "      <th>AlbumName</th>\n",
              "      <th>Title</th>\n",
              "      <th>Year</th>\n",
              "      <th>song_id</th>\n",
              "    </tr>\n",
              "  </thead>\n",
              "  <tbody>\n",
              "    <tr>\n",
              "      <th>0</th>\n",
              "      <td>SOVLGJY12A8C13FBED</td>\n",
              "      <td>223563</td>\n",
              "      <td>Call of the Mastodon</td>\n",
              "      <td>Deep Sea Creature</td>\n",
              "      <td>2001</td>\n",
              "      <td>SOAAAGQ12A8C1420C8</td>\n",
              "    </tr>\n",
              "    <tr>\n",
              "      <th>1</th>\n",
              "      <td>SOMZWCG12A8C13C480</td>\n",
              "      <td>300848</td>\n",
              "      <td>Fear Itself</td>\n",
              "      <td>bI Didnt Mean To\"\"</td>\n",
              "      <td>0</td>\n",
              "      <td>SOAACPJ12A81C21360</td>\n",
              "    </tr>\n",
              "    <tr>\n",
              "      <th>2</th>\n",
              "      <td>SOCIWDW12A8C13D406</td>\n",
              "      <td>300822</td>\n",
              "      <td>Dimensions</td>\n",
              "      <td>Soul Deep</td>\n",
              "      <td>1969</td>\n",
              "      <td>SOAACTC12AB0186A20</td>\n",
              "    </tr>\n",
              "    <tr>\n",
              "      <th>3</th>\n",
              "      <td>SOXVLOJ12AB0189215</td>\n",
              "      <td>514953</td>\n",
              "      <td>Las Numero 1 De La Sonora Santanera</td>\n",
              "      <td>Amor De Cabaret</td>\n",
              "      <td>0</td>\n",
              "      <td>SOAADCB12A81C22AFA</td>\n",
              "    </tr>\n",
              "    <tr>\n",
              "      <th>4</th>\n",
              "      <td>SONHOTT12A8C13493C</td>\n",
              "      <td>287650</td>\n",
              "      <td>Friend Or Foe</td>\n",
              "      <td>Something Girls</td>\n",
              "      <td>1982</td>\n",
              "      <td>SOAAEJI12AB0188AB5</td>\n",
              "    </tr>\n",
              "  </tbody>\n",
              "</table>\n",
              "</div>"
            ],
            "text/plain": [
              "               SongID  AlbumID  ...  Year             song_id\n",
              "0  SOVLGJY12A8C13FBED   223563  ...  2001  SOAAAGQ12A8C1420C8\n",
              "1  SOMZWCG12A8C13C480   300848  ...     0  SOAACPJ12A81C21360\n",
              "2  SOCIWDW12A8C13D406   300822  ...  1969  SOAACTC12AB0186A20\n",
              "3  SOXVLOJ12AB0189215   514953  ...     0  SOAADCB12A81C22AFA\n",
              "4  SONHOTT12A8C13493C   287650  ...  1982  SOAAEJI12AB0188AB5\n",
              "\n",
              "[5 rows x 6 columns]"
            ]
          },
          "metadata": {
            "tags": []
          },
          "execution_count": 52
        }
      ]
    },
    {
      "cell_type": "code",
      "metadata": {
        "id": "ln3apbQdcz3Q"
      },
      "source": [
        "final_dtst = pd.merge(df, song_dtst, on='song_id')"
      ],
      "execution_count": 53,
      "outputs": []
    },
    {
      "cell_type": "code",
      "metadata": {
        "id": "zRmPe5RMc_Om"
      },
      "source": [
        "final_dtst = final_dtst.drop(['SongID'], axis=1)"
      ],
      "execution_count": 59,
      "outputs": []
    },
    {
      "cell_type": "code",
      "metadata": {
        "colab": {
          "base_uri": "https://localhost:8080/",
          "height": 206
        },
        "id": "1JkTQMF5d_-s",
        "outputId": "c2fcb76b-0908-4e53-c281-364b4154e0b8"
      },
      "source": [
        "final_dtst.head()"
      ],
      "execution_count": 60,
      "outputs": [
        {
          "output_type": "execute_result",
          "data": {
            "text/html": [
              "<div>\n",
              "<style scoped>\n",
              "    .dataframe tbody tr th:only-of-type {\n",
              "        vertical-align: middle;\n",
              "    }\n",
              "\n",
              "    .dataframe tbody tr th {\n",
              "        vertical-align: top;\n",
              "    }\n",
              "\n",
              "    .dataframe thead th {\n",
              "        text-align: right;\n",
              "    }\n",
              "</style>\n",
              "<table border=\"1\" class=\"dataframe\">\n",
              "  <thead>\n",
              "    <tr style=\"text-align: right;\">\n",
              "      <th></th>\n",
              "      <th>user_id</th>\n",
              "      <th>song_id</th>\n",
              "      <th>count</th>\n",
              "      <th>AlbumID</th>\n",
              "      <th>AlbumName</th>\n",
              "      <th>Title</th>\n",
              "      <th>Year</th>\n",
              "    </tr>\n",
              "  </thead>\n",
              "  <tbody>\n",
              "    <tr>\n",
              "      <th>0</th>\n",
              "      <td>b80344d063b5ccb3212f76538f3d9e43d87dca9e</td>\n",
              "      <td>SOAPDEY12A81C210A9</td>\n",
              "      <td>1</td>\n",
              "      <td>609165</td>\n",
              "      <td>Best of Zydeco</td>\n",
              "      <td>The Thrill Is Gone</td>\n",
              "      <td>1994</td>\n",
              "    </tr>\n",
              "    <tr>\n",
              "      <th>1</th>\n",
              "      <td>fd13b9d49c54e00ff413fe3c095ba581c7fc611e</td>\n",
              "      <td>SOAPDEY12A81C210A9</td>\n",
              "      <td>8</td>\n",
              "      <td>609165</td>\n",
              "      <td>Best of Zydeco</td>\n",
              "      <td>The Thrill Is Gone</td>\n",
              "      <td>1994</td>\n",
              "    </tr>\n",
              "    <tr>\n",
              "      <th>2</th>\n",
              "      <td>b80344d063b5ccb3212f76538f3d9e43d87dca9e</td>\n",
              "      <td>SOBBMDR12A8C13253B</td>\n",
              "      <td>2</td>\n",
              "      <td>105753</td>\n",
              "      <td>F.I.R.</td>\n",
              "      <td>Lydia [Piano Version]</td>\n",
              "      <td>0</td>\n",
              "    </tr>\n",
              "    <tr>\n",
              "      <th>3</th>\n",
              "      <td>930d2be6c85315d72cab9823ec0f7bfe7e477794</td>\n",
              "      <td>SOBBMDR12A8C13253B</td>\n",
              "      <td>1</td>\n",
              "      <td>105753</td>\n",
              "      <td>F.I.R.</td>\n",
              "      <td>Lydia [Piano Version]</td>\n",
              "      <td>0</td>\n",
              "    </tr>\n",
              "    <tr>\n",
              "      <th>4</th>\n",
              "      <td>b80344d063b5ccb3212f76538f3d9e43d87dca9e</td>\n",
              "      <td>SOBFNSP12AF72A0E22</td>\n",
              "      <td>1</td>\n",
              "      <td>504206</td>\n",
              "      <td>In The Electric Mist</td>\n",
              "      <td>Past Meets Present</td>\n",
              "      <td>0</td>\n",
              "    </tr>\n",
              "  </tbody>\n",
              "</table>\n",
              "</div>"
            ],
            "text/plain": [
              "                                    user_id  ...  Year\n",
              "0  b80344d063b5ccb3212f76538f3d9e43d87dca9e  ...  1994\n",
              "1  fd13b9d49c54e00ff413fe3c095ba581c7fc611e  ...  1994\n",
              "2  b80344d063b5ccb3212f76538f3d9e43d87dca9e  ...     0\n",
              "3  930d2be6c85315d72cab9823ec0f7bfe7e477794  ...     0\n",
              "4  b80344d063b5ccb3212f76538f3d9e43d87dca9e  ...     0\n",
              "\n",
              "[5 rows x 7 columns]"
            ]
          },
          "metadata": {
            "tags": []
          },
          "execution_count": 60
        }
      ]
    },
    {
      "cell_type": "code",
      "metadata": {
        "colab": {
          "base_uri": "https://localhost:8080/"
        },
        "id": "gA3q1KJHeVMf",
        "outputId": "d2d31fcc-99ca-49e6-8cc8-44a637bf462a"
      },
      "source": [
        "print(final_dtst.shape)"
      ],
      "execution_count": 61,
      "outputs": [
        {
          "output_type": "stream",
          "text": [
            "(16794, 7)\n"
          ],
          "name": "stdout"
        }
      ]
    },
    {
      "cell_type": "code",
      "metadata": {
        "colab": {
          "base_uri": "https://localhost:8080/"
        },
        "id": "7quG9102eR93",
        "outputId": "328ad358-3d17-45f6-ebf7-6c1c82149960"
      },
      "source": [
        "print(final_dtst[\"song_id\"].value_counts().shape)"
      ],
      "execution_count": 63,
      "outputs": [
        {
          "output_type": "stream",
          "text": [
            "(10001,)\n"
          ],
          "name": "stdout"
        }
      ]
    }
  ]
}